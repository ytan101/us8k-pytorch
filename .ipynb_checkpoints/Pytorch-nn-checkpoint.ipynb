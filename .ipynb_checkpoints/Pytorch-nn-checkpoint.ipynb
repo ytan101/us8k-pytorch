{
 "cells": [
  {
   "cell_type": "code",
   "execution_count": 2,
   "metadata": {},
   "outputs": [],
   "source": [
    "import torch\n",
    "import os.path\n",
    "\n",
    "from torch import nn\n",
    "from torch.utils.data import DataLoader\n",
    "from torchvision import datasets\n",
    "from torchvision.transforms import ToTensor"
   ]
  },
  {
   "cell_type": "markdown",
   "metadata": {},
   "source": [
    "## Download dataset"
   ]
  },
  {
   "cell_type": "code",
   "execution_count": 3,
   "metadata": {},
   "outputs": [],
   "source": [
    "def download_mnist_datasets():\n",
    "    train_data = datasets.MNIST(\n",
    "        root=\"data\", download=True, train=True, transform=ToTensor()\n",
    "    )\n",
    "    validation_data = datasets.MNIST(\n",
    "        root=\"data\", download=True, train=False, transform=ToTensor()\n",
    "    )\n",
    "    return train_data, validation_data"
   ]
  },
  {
   "cell_type": "code",
   "execution_count": 4,
   "metadata": {},
   "outputs": [
    {
     "name": "stdout",
     "output_type": "stream",
     "text": [
      "MNIST dataset downloaded\n"
     ]
    }
   ],
   "source": [
    "train_data, _ = download_mnist_datasets()\n",
    "print(\"MNIST dataset downloaded\")"
   ]
  },
  {
   "cell_type": "code",
   "execution_count": 4,
   "metadata": {},
   "outputs": [
    {
     "data": {
      "text/plain": [
       "Dataset MNIST\n",
       "    Number of datapoints: 60000\n",
       "    Root location: data\n",
       "    Split: Train\n",
       "    StandardTransform\n",
       "Transform: ToTensor()"
      ]
     },
     "execution_count": 4,
     "metadata": {},
     "output_type": "execute_result"
    }
   ],
   "source": [
    "train_data"
   ]
  },
  {
   "cell_type": "markdown",
   "metadata": {},
   "source": [
    "## Make dataloader"
   ]
  },
  {
   "cell_type": "code",
   "execution_count": 5,
   "metadata": {},
   "outputs": [],
   "source": [
    "BATCH_SIZE = 128\n",
    "train_data_loader = DataLoader(train_data, batch_size = BATCH_SIZE)"
   ]
  },
  {
   "cell_type": "markdown",
   "metadata": {},
   "source": [
    "## Make network"
   ]
  },
  {
   "cell_type": "code",
   "execution_count": 6,
   "metadata": {},
   "outputs": [],
   "source": [
    "# FeedForwardNet inherits from nn.Module\n",
    "class FeedForwardNet(nn.Module):\n",
    "    \n",
    "    # Constructor for defining the different layers\n",
    "    def __init__(self):\n",
    "        # Super allows you to call functions from nn.Module directly due to inheritance\n",
    "        super().__init__()\n",
    "        \n",
    "        # Reshape into 1D tensor\n",
    "        self.flatten = nn.Flatten()\n",
    "\n",
    "        # Dense layers\n",
    "        self.dense_layers = nn.Sequential(\n",
    "            nn.Linear(\n",
    "                28 * 28, 256\n",
    "            ),  # 28*28 inputs (from image) and 256 outputs (neurons)\n",
    "            nn.ReLU(),\n",
    "            nn.Linear(256, 10),  # 256 inputs and 10 outputs (MNIST has 10 classes)\n",
    "        )\n",
    "\n",
    "        # Normalizes output from 0 to 1 (probability of it being that class)\n",
    "        self.softmax = nn.Softmax(dim=1)  # dim = 1 -> 0 to 1\n",
    "\n",
    "    # Specifies data flow/forward pass\n",
    "    def forward(self, input_data):\n",
    "        flattened_data = self.flatten(input_data)\n",
    "        logits = self.dense_layers(flattened_data)\n",
    "        predictions = self.softmax(logits)\n",
    "        return predictions"
   ]
  },
  {
   "cell_type": "code",
   "execution_count": 7,
   "metadata": {},
   "outputs": [
    {
     "name": "stdout",
     "output_type": "stream",
     "text": [
      "Using cuda device\n"
     ]
    }
   ],
   "source": [
    "# Checks if GPU (cuda) is available and use it. If not, use CPU\n",
    "if torch.cuda.is_available():\n",
    "    device = \"cuda\"\n",
    "else:\n",
    "    device = \"cpu\"\n",
    "print(f\"Using {device} device\")\n",
    "\n",
    "feed_forward_net = FeedForwardNet().to(device)"
   ]
  },
  {
   "cell_type": "code",
   "execution_count": 8,
   "metadata": {},
   "outputs": [],
   "source": [
    "def train_one_epoch(model, data_loader, loss_fn, optimizer, device):\n",
    "    for inputs, targets in data_loader:\n",
    "        inputs, targets = inputs.to(device), targets.to(device)\n",
    "\n",
    "        # Calculate loss\n",
    "        predictions = model(inputs)\n",
    "        loss = loss_fn(predictions, targets)\n",
    "\n",
    "        # Backpropagate loss and update weights\n",
    "        optimizer.zero_grad()  # Reset gradients for each batch\n",
    "        loss.backward()  # Backprop\n",
    "        optimiser.step()  # Update weights\n",
    "\n",
    "    print(f\"Loss: {loss.item()}\")\n",
    "\n",
    "\n",
    "def train(model, data_loader, loss_fn, optimizer, device, epochs):\n",
    "    for i in range(epochs):\n",
    "        print(f\"Epoch {i+1}\")\n",
    "        train_one_epoch(model, data_loader, loss_fn, optimizer, device)\n",
    "        print(\"-----------------\")\n",
    "    print(\"Training is done\")"
   ]
  },
  {
   "cell_type": "code",
   "execution_count": 9,
   "metadata": {},
   "outputs": [],
   "source": [
    "# Instantiate loss function + optimiser\n",
    "LEARNING_RATE = 0.001\n",
    "loss_fn = nn.CrossEntropyLoss()\n",
    "optimizer = torch.optim.Adam(feed_forward_net.parameters(), lr=LEARNING_RATE)"
   ]
  },
  {
   "cell_type": "code",
   "execution_count": 10,
   "metadata": {},
   "outputs": [],
   "source": [
    "EPOCHS = 10\n",
    "\n",
    "# If model state dict already exists, load it into the model\n",
    "if os.path.isfile(\"feedforwardnet.pth\") == True:\n",
    "    state_dict = torch.load(\"feedforwardnet.pth\")\n",
    "    feed_forward_net.load_state_dict(state_dict)\n",
    "else:\n",
    "    train(feed_forward_net, train_data_loader, loss_fn, optimizer, device, EPOCHS)\n",
    "    # Store model\n",
    "    torch.save(feed_forward_net.state_dict(), \"feedforwardnet.pth\")\n",
    "    print(\"Model trained and stored at feedforwardnet.pth\")"
   ]
  },
  {
   "cell_type": "markdown",
   "metadata": {},
   "source": [
    "## Making predictions"
   ]
  },
  {
   "cell_type": "code",
   "execution_count": 11,
   "metadata": {},
   "outputs": [],
   "source": [
    "class_mapping = [\"0\", \"1\", \"2\", \"3\", \"4\", \"5\", \"6\", \"7\", \"8\", \"9\"]"
   ]
  },
  {
   "cell_type": "code",
   "execution_count": 12,
   "metadata": {},
   "outputs": [],
   "source": [
    "def predict(model, input_, target, class_mapping):\n",
    "    model.eval() # For evaluation and inference, turns off certain layers like batch_normalization and dropout\n",
    "    # model.train() # Turns back on layers offed by eval (As we are only looking at inference, don't need this)\n",
    "    \n",
    "    # no need to calculate gradients as we are doing inference\n",
    "    with torch.no_grad():\n",
    "        predictions = model(input_.to(device)) # Tensor (1,10) -> [[0.1,0.1,...,0.6]] sum = 1 due to softmax\n",
    "        predicted_index = predictions[0].argmax(0) # Prediction for example [0]\n",
    "        predicted = class_mapping[predicted_index]\n",
    "        expected = class_mapping[target]\n",
    "        \n",
    "    return predicted, expected"
   ]
  },
  {
   "cell_type": "code",
   "execution_count": 13,
   "metadata": {},
   "outputs": [
    {
     "name": "stdout",
     "output_type": "stream",
     "text": [
      "Predicted: '7', Expected: '7'\n"
     ]
    }
   ],
   "source": [
    "_, validation_data = download_mnist_datasets()\n",
    "\n",
    "# Get sample from validation set\n",
    "# Input stored at [0][0] and output stored at [0][1] for example in [0]\n",
    "input_, target = (\n",
    "    validation_data[0][0],\n",
    "    validation_data[0][1],\n",
    ")\n",
    "\n",
    "# Make an inference\n",
    "predicted, expected = predict(feed_forward_net, input_, target, class_mapping)\n",
    "print(f\"Predicted: '{predicted}', Expected: '{expected}'\")"
   ]
  },
  {
   "cell_type": "markdown",
   "metadata": {},
   "source": [
    "# Creating a data loader with Urban8K"
   ]
  },
  {
   "cell_type": "code",
   "execution_count": 1,
   "metadata": {},
   "outputs": [],
   "source": [
    "from torch.utils.data import Dataset\n",
    "\n",
    "import pandas as pd\n",
    "import torchaudio\n",
    "import os"
   ]
  },
  {
   "cell_type": "code",
   "execution_count": null,
   "metadata": {},
   "outputs": [],
   "source": [
    "class UrbanSoundDataset(Dataset):\n",
    "    \n",
    "    def __init__(self, annotations_file, audio_dir):\n",
    "        self.annotations = pd.read_csv(annotations_file)\n",
    "        self.audio_dir = audio_dir\n",
    "    \n",
    "    def __len__(self):\n",
    "        return len(self.annotations)\n",
    "    \n",
    "    def __getitem__(self, index):\n",
    "        audio_sample_path = self._get_audio_sample_path(index)\n",
    "        label = self._get_audio_sample_label(index)\n",
    "        signal, sr = torchaudio.load(audio_sample_path)\n",
    "        return signal, label\n",
    "    \n",
    "    # single underscore methods for internal use\n",
    "    def _get_audio_sample_path(self, index):\n",
    "        fold = f\"fold{self.annotations.iloc[index, 5]}\" # see csv for locations\n",
    "        file_name = self.annotations.iloc[index, 0]\n",
    "        path = os.path.join(self.audio_dir, fold, file_name)\n",
    "        return path\n",
    "    \n",
    "    def _get_audio_sample_label(self,index):\n",
    "        return self.anotations.iloc[index, 6] # see csv for locations"
   ]
  }
 ],
 "metadata": {
  "kernelspec": {
   "display_name": "Python 3",
   "language": "python",
   "name": "python3"
  },
  "language_info": {
   "codemirror_mode": {
    "name": "ipython",
    "version": 3
   },
   "file_extension": ".py",
   "mimetype": "text/x-python",
   "name": "python",
   "nbconvert_exporter": "python",
   "pygments_lexer": "ipython3",
   "version": "3.8.5"
  }
 },
 "nbformat": 4,
 "nbformat_minor": 4
}
